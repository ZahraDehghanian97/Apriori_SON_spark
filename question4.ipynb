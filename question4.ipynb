{
  "nbformat": 4,
  "nbformat_minor": 0,
  "metadata": {
    "colab": {
      "provenance": [],
      "include_colab_link": true
    },
    "kernelspec": {
      "display_name": "Python 3",
      "name": "python3"
    }
  },
  "cells": [
    {
      "cell_type": "markdown",
      "metadata": {
        "id": "view-in-github",
        "colab_type": "text"
      },
      "source": [
        "<a href=\"https://colab.research.google.com/github/zahraDehghanian97/frequent_road/blob/master/question4.ipynb\" target=\"_parent\"><img src=\"https://colab.research.google.com/assets/colab-badge.svg\" alt=\"Open In Colab\"/></a>"
      ]
    },
    {
      "cell_type": "markdown",
      "metadata": {
        "id": "LAIDsK4nKOXc"
      },
      "source": [
        "# **find Frequent itemset in Traffic Dataset using Spark**  "
      ]
    },
    {
      "cell_type": "markdown",
      "metadata": {
        "id": "fCBUpTZzLWBq"
      },
      "source": [
        "## **2. Setting Up Local Storage for Dataset**"
      ]
    },
    {
      "cell_type": "markdown",
      "metadata": {
        "id": "igVi5g2aLhWa"
      },
      "source": [
        "### **2.1 Giving Access To Google Drive**"
      ]
    },
    {
      "cell_type": "code",
      "metadata": {
        "colab": {
          "base_uri": "https://localhost:8080/"
        },
        "id": "5K93ABEy9Zlo",
        "outputId": "b45b974c-d17f-4e46-b699-b55b98a60d55"
      },
      "source": [
        "from google.colab import drive\n",
        "# This will prompt for authorization.\n",
        "drive.mount('/content/drive')"
      ],
      "execution_count": null,
      "outputs": [
        {
          "output_type": "stream",
          "name": "stdout",
          "text": [
            "Mounted at /content/drive\n"
          ]
        }
      ]
    },
    {
      "cell_type": "markdown",
      "metadata": {
        "id": "e6yl8ItXKyfv"
      },
      "source": [
        "## **3. Installing Required Libraries**"
      ]
    },
    {
      "cell_type": "code",
      "metadata": {
        "colab": {
          "base_uri": "https://localhost:8080/"
        },
        "id": "k-qHai2252mI",
        "outputId": "261c499b-e483-46a9-e2c3-18c7ea72b200"
      },
      "source": [
        "!pip install pyspark\n",
        "!pip install -U -q PyDrive\n",
        "!apt install openjdk-8-jdk-headless -qq\n",
        "import os\n",
        "os.environ[\"JAVA_HOME\"] = \"/usr/lib/jvm/java-8-openjdk-amd64\""
      ],
      "execution_count": null,
      "outputs": [
        {
          "output_type": "stream",
          "name": "stdout",
          "text": [
            "Collecting pyspark\n",
            "  Downloading pyspark-3.2.0.tar.gz (281.3 MB)\n",
            "\u001b[K     |████████████████████████████████| 281.3 MB 45 kB/s \n",
            "\u001b[?25hCollecting py4j==0.10.9.2\n",
            "  Downloading py4j-0.10.9.2-py2.py3-none-any.whl (198 kB)\n",
            "\u001b[K     |████████████████████████████████| 198 kB 71.9 MB/s \n",
            "\u001b[?25hBuilding wheels for collected packages: pyspark\n",
            "  Building wheel for pyspark (setup.py) ... \u001b[?25l\u001b[?25hdone\n",
            "  Created wheel for pyspark: filename=pyspark-3.2.0-py2.py3-none-any.whl size=281805912 sha256=b04c89c1ef6fa2d16465ecccfe6c8592d8f3f6a39595ed77ac1017a0094ff8d3\n",
            "  Stored in directory: /root/.cache/pip/wheels/0b/de/d2/9be5d59d7331c6c2a7c1b6d1a4f463ce107332b1ecd4e80718\n",
            "Successfully built pyspark\n",
            "Installing collected packages: py4j, pyspark\n",
            "Successfully installed py4j-0.10.9.2 pyspark-3.2.0\n",
            "The following additional packages will be installed:\n",
            "  openjdk-8-jre-headless\n",
            "Suggested packages:\n",
            "  openjdk-8-demo openjdk-8-source libnss-mdns fonts-dejavu-extra\n",
            "  fonts-ipafont-gothic fonts-ipafont-mincho fonts-wqy-microhei\n",
            "  fonts-wqy-zenhei fonts-indic\n",
            "The following NEW packages will be installed:\n",
            "  openjdk-8-jdk-headless openjdk-8-jre-headless\n",
            "0 upgraded, 2 newly installed, 0 to remove and 37 not upgraded.\n",
            "Need to get 36.5 MB of archives.\n",
            "After this operation, 143 MB of additional disk space will be used.\n",
            "Selecting previously unselected package openjdk-8-jre-headless:amd64.\n",
            "(Reading database ... 155222 files and directories currently installed.)\n",
            "Preparing to unpack .../openjdk-8-jre-headless_8u292-b10-0ubuntu1~18.04_amd64.deb ...\n",
            "Unpacking openjdk-8-jre-headless:amd64 (8u292-b10-0ubuntu1~18.04) ...\n",
            "Selecting previously unselected package openjdk-8-jdk-headless:amd64.\n",
            "Preparing to unpack .../openjdk-8-jdk-headless_8u292-b10-0ubuntu1~18.04_amd64.deb ...\n",
            "Unpacking openjdk-8-jdk-headless:amd64 (8u292-b10-0ubuntu1~18.04) ...\n",
            "Setting up openjdk-8-jre-headless:amd64 (8u292-b10-0ubuntu1~18.04) ...\n",
            "update-alternatives: using /usr/lib/jvm/java-8-openjdk-amd64/jre/bin/orbd to provide /usr/bin/orbd (orbd) in auto mode\n",
            "update-alternatives: using /usr/lib/jvm/java-8-openjdk-amd64/jre/bin/servertool to provide /usr/bin/servertool (servertool) in auto mode\n",
            "update-alternatives: using /usr/lib/jvm/java-8-openjdk-amd64/jre/bin/tnameserv to provide /usr/bin/tnameserv (tnameserv) in auto mode\n",
            "Setting up openjdk-8-jdk-headless:amd64 (8u292-b10-0ubuntu1~18.04) ...\n",
            "update-alternatives: using /usr/lib/jvm/java-8-openjdk-amd64/bin/idlj to provide /usr/bin/idlj (idlj) in auto mode\n",
            "update-alternatives: using /usr/lib/jvm/java-8-openjdk-amd64/bin/wsimport to provide /usr/bin/wsimport (wsimport) in auto mode\n",
            "update-alternatives: using /usr/lib/jvm/java-8-openjdk-amd64/bin/jsadebugd to provide /usr/bin/jsadebugd (jsadebugd) in auto mode\n",
            "update-alternatives: using /usr/lib/jvm/java-8-openjdk-amd64/bin/native2ascii to provide /usr/bin/native2ascii (native2ascii) in auto mode\n",
            "update-alternatives: using /usr/lib/jvm/java-8-openjdk-amd64/bin/javah to provide /usr/bin/javah (javah) in auto mode\n",
            "update-alternatives: using /usr/lib/jvm/java-8-openjdk-amd64/bin/hsdb to provide /usr/bin/hsdb (hsdb) in auto mode\n",
            "update-alternatives: using /usr/lib/jvm/java-8-openjdk-amd64/bin/clhsdb to provide /usr/bin/clhsdb (clhsdb) in auto mode\n",
            "update-alternatives: using /usr/lib/jvm/java-8-openjdk-amd64/bin/extcheck to provide /usr/bin/extcheck (extcheck) in auto mode\n",
            "update-alternatives: using /usr/lib/jvm/java-8-openjdk-amd64/bin/schemagen to provide /usr/bin/schemagen (schemagen) in auto mode\n",
            "update-alternatives: using /usr/lib/jvm/java-8-openjdk-amd64/bin/xjc to provide /usr/bin/xjc (xjc) in auto mode\n",
            "update-alternatives: using /usr/lib/jvm/java-8-openjdk-amd64/bin/jhat to provide /usr/bin/jhat (jhat) in auto mode\n",
            "update-alternatives: using /usr/lib/jvm/java-8-openjdk-amd64/bin/wsgen to provide /usr/bin/wsgen (wsgen) in auto mode\n"
          ]
        }
      ]
    },
    {
      "cell_type": "code",
      "source": [
        "from pyspark import SparkContext, SparkConf \n",
        "from pyspark.sql import SparkSession\n",
        "from pyspark.sql.types import StructType,StructField, StringType, IntegerType,TimestampType\n",
        "from pyspark.sql.functions import col,current_timestamp,to_date,hour,dayofweek"
      ],
      "metadata": {
        "id": "Kj3sIvt8KQxD"
      },
      "execution_count": null,
      "outputs": []
    },
    {
      "cell_type": "markdown",
      "metadata": {
        "id": "389an7U5Mf41"
      },
      "source": [
        "## **4. Data Loading and Preprocessing**"
      ]
    },
    {
      "cell_type": "code",
      "metadata": {
        "id": "kLoUDlZrzoAg"
      },
      "source": [
        "# !unzip \"/content/drive/My Drive/Sample_Data.zip\" -d \"/content/drive/My Drive/Sample_Data\""
      ],
      "execution_count": null,
      "outputs": []
    },
    {
      "cell_type": "code",
      "metadata": {
        "colab": {
          "base_uri": "https://localhost:8080/"
        },
        "id": "CGoJ3OTX3Lz_",
        "outputId": "c25f3e5b-8fc4-4142-b778-4b7973ba2632"
      },
      "source": [
        "from pyspark import SparkContext, SparkConf \n",
        "from pyspark.sql import SparkSession\n",
        "from pyspark.sql.types import StructType,StructField, StringType, IntegerType,TimestampType\n",
        "from pyspark.sql.functions import col,current_timestamp,to_date,hour,dayofweek\n",
        "spark = SparkSession \\\n",
        "    .builder \\\n",
        "    .appName(\"Spark_Processor\") \\\n",
        "    .master(\"local[*]\") \\\n",
        "    .getOrCreate()\n",
        "sc=spark.sparkContext\n",
        "schema = StructType([ \\\n",
        "        StructField(\"DEVICE_CODE\", IntegerType(), True), \n",
        "        StructField(\"SYSTEM_ID\",IntegerType(),True), \\\n",
        "        StructField(\"ORIGINE_CAR_KEY\",StringType(),True), \\\n",
        "        StructField(\"FINAL_CAR_KEY\",StringType(),True), \\\n",
        "        StructField(\"CHECK_STATUS_KEY\", IntegerType(), True), \\\n",
        "        StructField(\"COMPANY_ID\", StringType(), True), \\\n",
        "        StructField(\"PASS_DAY_TIME\", TimestampType(), True)])\n",
        "df=spark.read.csv('/content/drive/My Drive/Sample_Data/Sample_Traffic.csv',header=True,schema=schema)\n",
        "df.show(1)"
      ],
      "execution_count": null,
      "outputs": [
        {
          "output_type": "stream",
          "name": "stdout",
          "text": [
            "+-----------+---------+---------------+-------------+----------------+----------+-------------------+\n",
            "|DEVICE_CODE|SYSTEM_ID|ORIGINE_CAR_KEY|FINAL_CAR_KEY|CHECK_STATUS_KEY|COMPANY_ID|      PASS_DAY_TIME|\n",
            "+-----------+---------+---------------+-------------+----------------+----------+-------------------+\n",
            "|     200501|       81|       10477885|     10477885|               5|       161|2021-06-01 03:54:39|\n",
            "+-----------+---------+---------------+-------------+----------------+----------+-------------------+\n",
            "only showing top 1 row\n",
            "\n"
          ]
        }
      ]
    },
    {
      "cell_type": "markdown",
      "metadata": {
        "id": "9B8gfd_4gdcZ"
      },
      "source": [
        "## **5. Algorithm Implementation**"
      ]
    },
    {
      "cell_type": "markdown",
      "metadata": {
        "id": "UVAWNsIx-2VC"
      },
      "source": [
        "### **5.1 A-priori**"
      ]
    },
    {
      "cell_type": "code",
      "metadata": {
        "colab": {
          "base_uri": "https://localhost:8080/"
        },
        "id": "1ifAVj8Okn3h",
        "outputId": "1d223d20-a94b-419a-9281-0a6b68a8ce72"
      },
      "source": [
        "# find frequent itemset 1\n",
        "\n",
        "df_mapped = df.rdd.map(lambda x: ((x['ORIGINE_CAR_KEY'], x['PASS_DAY_TIME'].date()), [x['DEVICE_CODE']]))\n",
        "df_mapped2 = df_mapped.reduceByKey(lambda a,b: a+b)\n",
        "df_mapped2.take(10)\n",
        "df_mapped2 = df_mapped2.sample(False,0.005)\n",
        "supportRDD = df_mapped2.flatMap(lambda X: X[1]).map(lambda item: (item , 1)).reduceByKey(lambda a,b: a+b)\n",
        "supportRDD = supportRDD.filter(lambda item: item[1] >= 100)"
      ],
      "execution_count": null,
      "outputs": [
        {
          "output_type": "execute_result",
          "data": {
            "text/plain": [
              "[(('40682798', datetime.date(2021, 6, 1)), [206602]),\n",
              " (('10334617', datetime.date(2021, 6, 1)),\n",
              "  [22009977, 142, 100701059, 22009977, 100701059, 205201]),\n",
              " (('72847246', datetime.date(2021, 6, 1)), [22010062]),\n",
              " (('26001360', datetime.date(2021, 6, 1)),\n",
              "  [206602, 207101, 137, 205802, 212802, 117, 117, 100700845, 100701145]),\n",
              " (('8609192', datetime.date(2021, 6, 1)),\n",
              "  [205201,\n",
              "   202601,\n",
              "   205202,\n",
              "   101301,\n",
              "   230107,\n",
              "   22009971,\n",
              "   100700824,\n",
              "   900276,\n",
              "   22009977]),\n",
              " (('16609595', datetime.date(2021, 6, 1)),\n",
              "  [22010051, 22010052, 22010120, 22010128]),\n",
              " (('73436862', datetime.date(2021, 6, 1)), [631781]),\n",
              " (('21614822', datetime.date(2021, 6, 1)),\n",
              "  [631795,\n",
              "   207101,\n",
              "   900276,\n",
              "   900216,\n",
              "   900191,\n",
              "   900234,\n",
              "   900138,\n",
              "   900265,\n",
              "   175,\n",
              "   175,\n",
              "   135,\n",
              "   107301,\n",
              "   100700824,\n",
              "   100700804]),\n",
              " (('27554425', datetime.date(2021, 6, 1)), [631763]),\n",
              " (('87107283', datetime.date(2021, 6, 1)), [22010053])]"
            ]
          },
          "metadata": {},
          "execution_count": 7
        }
      ]
    },
    {
      "cell_type": "code",
      "metadata": {
        "colab": {
          "base_uri": "https://localhost:8080/"
        },
        "id": "ZFoRl07in_yf",
        "outputId": "050d7adb-a143-4b30-978b-bf551b298398"
      },
      "source": [
        "# find frequent itemset 2 and 3\n",
        "\n",
        "def remove(record):\n",
        "    if(isinstance(record[0], tuple)):\n",
        "        x1 = record[0]\n",
        "        x2 = record[1]\n",
        "    else:\n",
        "        x1 = [record[0]]\n",
        "        x2 = record[1]\n",
        "    if(any(x == x2 for x in x1) == False):\n",
        "        a = list(x1)\n",
        "        a.append(x2)\n",
        "        a.sort()\n",
        "        result = tuple(a)\n",
        "        return result \n",
        "    else:\n",
        "        return x1\n",
        "\n",
        "\n",
        "unique = supportRDD.map(lambda item: item[0]) \n",
        "resultRdd = supportRDD.map(lambda item: ([item[0]] , item[1])) \n",
        "allitems = df_mapped2.map(lambda item: item[1])\n",
        "supportRDD2 = supportRDD.map(lambda item: item[0]) \n",
        "count = 2 \n",
        "while(supportRDD2.isEmpty() == False):\n",
        "    tmp = supportRDD2.cartesian(unique)\n",
        "    tmp = tmp.map(lambda item: remove(item))\n",
        "    tmp = tmp.filter(lambda item: len(item) == count)\n",
        "    tmp = tmp.distinct()\n",
        "    print(tmp.take(4))\n",
        "    tmp_2 = tmp.cartesian(allitems)\n",
        "    tmp_2 = tmp_2.filter(lambda item: all(x in item[1] for x in item[0]))\n",
        "    print(tmp_2.take(4))\n",
        "    tmp_2 = tmp_2.map(lambda item: (item[0], 1)).reduceByKey(lambda a,b: a+b)\n",
        "    print(tmp_2.take(4))\n",
        "    tmp_2 = tmp_2.filter(lambda item: item[1] >= 10)\n",
        "    print(tmp_2.take(4))\n",
        "    resultRdd = resultRdd.union(tmp_2)\n",
        "    print(resultRdd.collect())\n",
        "    tmp_2 = tmp_2.map(lambda item: item[0])\n",
        "    supportRDD2 = tmp_2\n",
        "    count = count+1 \n",
        "    print('finish ' + str(count))\n",
        "    if(count == 4):\n",
        "      break"
      ],
      "execution_count": null,
      "outputs": [
        {
          "output_type": "stream",
          "name": "stdout",
          "text": [
            "[(900222, 22010061), (900244, 100700853), (22010083, 100700853), (631357, 100700841)]\n",
            "[((900222, 22010061), [100701251, 22010060, 631748, 900215, 900171, 803001, 100700868, 900222, 900102, 900246, 900102, 900246, 100701100, 900182, 100700866, 100701100, 100701130, 900102, 900102, 900246, 900222, 100700868, 22010061, 900155, 100701130, 900222, 900102, 900246]), ((900244, 100700853), [100700868, 900222, 631360, 900152, 900212, 900102, 900244, 900155, 100700853]), ((900244, 100700853), [900249, 100700853, 22009977, 900244, 900212, 900249, 900101]), ((900244, 100700853), [100700853, 900236, 22010048, 100701119, 900142, 900244, 900212])]\n",
            "[((900222, 22010061), 2), ((900164, 900222), 5), ((900101, 900246), 12), ((900101, 900236), 46)]\n",
            "[((900101, 900246), 12), ((900101, 900236), 46), ((900222, 900246), 20), ((631357, 900236), 26)]\n",
            "[([900225], 225), ([100700868], 232), ([100700853], 312), ([22010061], 200), ([100700841], 369), ([900246], 286), ([900222], 265), ([900244], 328), ([631357], 211), ([900142], 247), ([100700866], 211), ([100700845], 220), ([100700824], 210), ([900268], 255), ([22010083], 249), ([900164], 215), ([900212], 458), ([900101], 280), ([900236], 214), ([900155], 296), ((900101, 900246), 12), ((900101, 900236), 46), ((900222, 900246), 20), ((631357, 900236), 26), ((900142, 100700853), 72), ((900212, 900244), 215), ((900155, 900222), 43), ((900155, 900246), 14), ((900225, 100700853), 12), ((900222, 100700868), 82), ((100700866, 100700868), 34), ((900101, 900225), 12), ((900155, 100700853), 10), ((900164, 900246), 21), ((631357, 900246), 42), ((900101, 900212), 63), ((900212, 900268), 22), ((900222, 900244), 25), ((900212, 900222), 23), ((900142, 900268), 19), ((900225, 900244), 23), ((900225, 100700866), 17), ((631357, 900222), 10), ((900212, 900246), 10), ((900225, 100700868), 12), ((900222, 900225), 20), ((900222, 100700841), 13), ((631357, 100700824), 10), ((900101, 900268), 44), ((900222, 100700853), 18), ((900246, 100700841), 22), ((900268, 100700841), 37), ((900212, 900225), 23), ((900142, 100700841), 26), ((900212, 100700841), 37), ((900236, 900268), 19), ((900244, 100700853), 47), ((631357, 100700841), 27), ((100700824, 100700841), 10), ((900155, 100700866), 46), ((900222, 100700866), 68), ((900244, 100700824), 11), ((900236, 900244), 18), ((900244, 900268), 11), ((900142, 100700866), 12), ((900212, 100700824), 13), ((900246, 100700853), 11), ((900101, 900244), 33), ((900142, 900236), 13), ((900155, 100700868), 68), ((900164, 100700841), 10), ((900244, 100700866), 20), ((900212, 100700866), 26), ((900268, 100700853), 27), ((900236, 100700841), 99), ((900236, 900246), 18), ((900246, 100700868), 13), ((22010061, 100700845), 12), ((900246, 900268), 16), ((631357, 900244), 13), ((900246, 100700824), 11), ((900142, 900244), 82), ((900155, 900244), 17), ((900101, 100700868), 10), ((900155, 900225), 12), ((900164, 900212), 14), ((900244, 100700868), 16), ((900244, 100700841), 22), ((900212, 100700868), 20), ((900236, 100700853), 19), ((900225, 900246), 20), ((900101, 100700853), 27), ((900101, 900142), 19), ((900246, 100700866), 10), ((900142, 900212), 130), ((900155, 900212), 22), ((900101, 100700866), 12), ((631357, 900212), 13), ((900164, 100700824), 10), ((100700841, 100700853), 10), ((900212, 100700853), 67), ((900246, 100700845), 14), ((900101, 900222), 10), ((900212, 900236), 21), ((900225, 900268), 50), ((900101, 100700841), 104), ((900225, 100700841), 10), ((900142, 900225), 14), ((900164, 900244), 10)]\n",
            "finish 3\n",
            "[(900142, 100700841, 100700853), (900222, 22010061, 100700868), (900142, 900244, 900268), (900222, 100700824, 100700853)]\n",
            "[((900142, 100700841, 100700853), [100700841, 900142, 100700853]), ((900142, 100700841, 100700853), [22010039, 900101, 100700853, 900139, 900268, 145, 100700853, 900259, 100700841, 900142, 900152, 900236]), ((900222, 22010061, 100700868), [100701251, 22010060, 631748, 900215, 900171, 803001, 100700868, 900222, 900102, 900246, 900102, 900246, 100701100, 900182, 100700866, 100701100, 100701130, 900102, 900102, 900246, 900222, 100700868, 22010061, 900155, 100701130, 900222, 900102, 900246]), ((900142, 100700841, 100700853), [100701092, 900212, 100700816, 631633, 900245, 100700812, 900142, 900273, 900258, 900142, 900225, 100700868, 900243, 631368, 100700853, 900142, 900164, 100700824, 900268, 100700929, 22009977, 900156, 100700841])]\n",
            "[((900222, 900246, 100700841), 1), ((900101, 900212, 22010061), 2), ((631357, 900222, 900244), 3), ((900142, 900212, 900225), 11)]\n",
            "[((900142, 900212, 900225), 11), ((900101, 900268, 100700841), 19), ((900101, 900212, 100700841), 19), ((900101, 900142, 900212), 11)]\n",
            "[([900225], 225), ([100700868], 232), ([100700853], 312), ([22010061], 200), ([100700841], 369), ([900246], 286), ([900222], 265), ([900244], 328), ([631357], 211), ([900142], 247), ([100700866], 211), ([100700845], 220), ([100700824], 210), ([900268], 255), ([22010083], 249), ([900164], 215), ([900212], 458), ([900101], 280), ([900236], 214), ([900155], 296), ((900101, 900246), 12), ((900101, 900236), 46), ((900222, 900246), 20), ((631357, 900236), 26), ((900142, 100700853), 72), ((900212, 900244), 215), ((900155, 900222), 43), ((900155, 900246), 14), ((900225, 100700853), 12), ((900222, 100700868), 82), ((100700866, 100700868), 34), ((900101, 900225), 12), ((900155, 100700853), 10), ((900164, 900246), 21), ((631357, 900246), 42), ((900101, 900212), 63), ((900212, 900268), 22), ((900222, 900244), 25), ((900212, 900222), 23), ((900142, 900268), 19), ((900225, 900244), 23), ((900225, 100700866), 17), ((631357, 900222), 10), ((900212, 900246), 10), ((900225, 100700868), 12), ((900222, 900225), 20), ((900222, 100700841), 13), ((631357, 100700824), 10), ((900101, 900268), 44), ((900222, 100700853), 18), ((900246, 100700841), 22), ((900268, 100700841), 37), ((900212, 900225), 23), ((900142, 100700841), 26), ((900212, 100700841), 37), ((900236, 900268), 19), ((900244, 100700853), 47), ((631357, 100700841), 27), ((100700824, 100700841), 10), ((900155, 100700866), 46), ((900222, 100700866), 68), ((900244, 100700824), 11), ((900236, 900244), 18), ((900244, 900268), 11), ((900142, 100700866), 12), ((900212, 100700824), 13), ((900246, 100700853), 11), ((900101, 900244), 33), ((900142, 900236), 13), ((900155, 100700868), 68), ((900164, 100700841), 10), ((900244, 100700866), 20), ((900212, 100700866), 26), ((900268, 100700853), 27), ((900236, 100700841), 99), ((900236, 900246), 18), ((900246, 100700868), 13), ((22010061, 100700845), 12), ((900246, 900268), 16), ((631357, 900244), 13), ((900246, 100700824), 11), ((900142, 900244), 82), ((900155, 900244), 17), ((900101, 100700868), 10), ((900155, 900225), 12), ((900164, 900212), 14), ((900244, 100700868), 16), ((900244, 100700841), 22), ((900212, 100700868), 20), ((900236, 100700853), 19), ((900225, 900246), 20), ((900101, 100700853), 27), ((900101, 900142), 19), ((900246, 100700866), 10), ((900142, 900212), 130), ((900155, 900212), 22), ((900101, 100700866), 12), ((631357, 900212), 13), ((900164, 100700824), 10), ((100700841, 100700853), 10), ((900212, 100700853), 67), ((900246, 100700845), 14), ((900101, 900222), 10), ((900212, 900236), 21), ((900225, 900268), 50), ((900101, 100700841), 104), ((900225, 100700841), 10), ((900142, 900225), 14), ((900164, 900244), 10), ((900142, 900212, 900225), 11), ((900101, 900268, 100700841), 19), ((900101, 900212, 100700841), 19), ((900101, 900142, 900212), 11), ((900101, 900236, 100700841), 34), ((900155, 900222, 100700866), 16), ((900142, 900244, 100700853), 26), ((900101, 900212, 900244), 32), ((900212, 900222, 900244), 18), ((900236, 900246, 100700841), 14), ((900142, 900212, 100700866), 10), ((900212, 900244, 100700866), 17), ((900142, 900212, 100700853), 42), ((900212, 900244, 100700841), 17), ((900142, 900212, 900244), 71), ((631357, 900246, 100700841), 10), ((900142, 900212, 100700841), 12), ((900101, 900142, 100700841), 10), ((900155, 900212, 900244), 15), ((631357, 900236, 100700841), 20), ((900155, 900222, 100700868), 24), ((900212, 900244, 100700853), 41), ((900155, 100700866, 100700868), 14), ((900212, 900236, 900244), 16), ((900222, 100700866, 100700868), 21), ((900222, 900244, 100700866), 10), ((900212, 900244, 100700824), 10), ((631357, 900212, 900244), 12), ((900212, 900225, 900244), 14), ((900212, 900244, 100700868), 12), ((900101, 900244, 100700841), 11)]\n",
            "finish 4\n"
          ]
        }
      ]
    },
    {
      "cell_type": "code",
      "metadata": {
        "id": "MeN6N560CmDY",
        "colab": {
          "base_uri": "https://localhost:8080/"
        },
        "outputId": "dc6a9500-68d6-4b98-8185-4b503cbdf1b9"
      },
      "source": [
        "# final frequent road with Apriori\n",
        "\n",
        "resultRdd.collect()"
      ],
      "execution_count": null,
      "outputs": [
        {
          "output_type": "execute_result",
          "data": {
            "text/plain": [
              "[([900225], 225),\n",
              " ([100700868], 232),\n",
              " ([100700853], 312),\n",
              " ([22010061], 200),\n",
              " ([100700841], 369),\n",
              " ([900246], 286),\n",
              " ([900222], 265),\n",
              " ([900244], 328),\n",
              " ([631357], 211),\n",
              " ([900142], 247),\n",
              " ([100700866], 211),\n",
              " ([100700845], 220),\n",
              " ([100700824], 210),\n",
              " ([900268], 255),\n",
              " ([22010083], 249),\n",
              " ([900164], 215),\n",
              " ([900212], 458),\n",
              " ([900101], 280),\n",
              " ([900236], 214),\n",
              " ([900155], 296),\n",
              " ((900101, 900246), 12),\n",
              " ((900101, 900236), 46),\n",
              " ((900222, 900246), 20),\n",
              " ((631357, 900236), 26),\n",
              " ((900142, 100700853), 72),\n",
              " ((900212, 900244), 215),\n",
              " ((900155, 900222), 43),\n",
              " ((900155, 900246), 14),\n",
              " ((900225, 100700853), 12),\n",
              " ((900222, 100700868), 82),\n",
              " ((100700866, 100700868), 34),\n",
              " ((900101, 900225), 12),\n",
              " ((900155, 100700853), 10),\n",
              " ((900164, 900246), 21),\n",
              " ((631357, 900246), 42),\n",
              " ((900101, 900212), 63),\n",
              " ((900212, 900268), 22),\n",
              " ((900222, 900244), 25),\n",
              " ((900212, 900222), 23),\n",
              " ((900142, 900268), 19),\n",
              " ((900225, 900244), 23),\n",
              " ((900225, 100700866), 17),\n",
              " ((631357, 900222), 10),\n",
              " ((900212, 900246), 10),\n",
              " ((900225, 100700868), 12),\n",
              " ((900222, 900225), 20),\n",
              " ((900222, 100700841), 13),\n",
              " ((631357, 100700824), 10),\n",
              " ((900101, 900268), 44),\n",
              " ((900222, 100700853), 18),\n",
              " ((900246, 100700841), 22),\n",
              " ((900268, 100700841), 37),\n",
              " ((900212, 900225), 23),\n",
              " ((900142, 100700841), 26),\n",
              " ((900212, 100700841), 37),\n",
              " ((900236, 900268), 19),\n",
              " ((900244, 100700853), 47),\n",
              " ((631357, 100700841), 27),\n",
              " ((100700824, 100700841), 10),\n",
              " ((900155, 100700866), 46),\n",
              " ((900222, 100700866), 68),\n",
              " ((900244, 100700824), 11),\n",
              " ((900236, 900244), 18),\n",
              " ((900244, 900268), 11),\n",
              " ((900142, 100700866), 12),\n",
              " ((900212, 100700824), 13),\n",
              " ((900246, 100700853), 11),\n",
              " ((900101, 900244), 33),\n",
              " ((900142, 900236), 13),\n",
              " ((900155, 100700868), 68),\n",
              " ((900164, 100700841), 10),\n",
              " ((900244, 100700866), 20),\n",
              " ((900212, 100700866), 26),\n",
              " ((900268, 100700853), 27),\n",
              " ((900236, 100700841), 99),\n",
              " ((900236, 900246), 18),\n",
              " ((900246, 100700868), 13),\n",
              " ((22010061, 100700845), 12),\n",
              " ((900246, 900268), 16),\n",
              " ((631357, 900244), 13),\n",
              " ((900246, 100700824), 11),\n",
              " ((900142, 900244), 82),\n",
              " ((900155, 900244), 17),\n",
              " ((900101, 100700868), 10),\n",
              " ((900155, 900225), 12),\n",
              " ((900164, 900212), 14),\n",
              " ((900244, 100700868), 16),\n",
              " ((900244, 100700841), 22),\n",
              " ((900212, 100700868), 20),\n",
              " ((900236, 100700853), 19),\n",
              " ((900225, 900246), 20),\n",
              " ((900101, 100700853), 27),\n",
              " ((900101, 900142), 19),\n",
              " ((900246, 100700866), 10),\n",
              " ((900142, 900212), 130),\n",
              " ((900155, 900212), 22),\n",
              " ((900101, 100700866), 12),\n",
              " ((631357, 900212), 13),\n",
              " ((900164, 100700824), 10),\n",
              " ((100700841, 100700853), 10),\n",
              " ((900212, 100700853), 67),\n",
              " ((900246, 100700845), 14),\n",
              " ((900101, 900222), 10),\n",
              " ((900212, 900236), 21),\n",
              " ((900225, 900268), 50),\n",
              " ((900101, 100700841), 104),\n",
              " ((900225, 100700841), 10),\n",
              " ((900142, 900225), 14),\n",
              " ((900164, 900244), 10),\n",
              " ((900142, 900212, 900225), 11),\n",
              " ((900101, 900268, 100700841), 19),\n",
              " ((900101, 900212, 100700841), 19),\n",
              " ((900101, 900142, 900212), 11),\n",
              " ((900101, 900236, 100700841), 34),\n",
              " ((900155, 900222, 100700866), 16),\n",
              " ((900142, 900244, 100700853), 26),\n",
              " ((900101, 900212, 900244), 32),\n",
              " ((900212, 900222, 900244), 18),\n",
              " ((900236, 900246, 100700841), 14),\n",
              " ((900142, 900212, 100700866), 10),\n",
              " ((900212, 900244, 100700866), 17),\n",
              " ((900142, 900212, 100700853), 42),\n",
              " ((900212, 900244, 100700841), 17),\n",
              " ((900142, 900212, 900244), 71),\n",
              " ((631357, 900246, 100700841), 10),\n",
              " ((900142, 900212, 100700841), 12),\n",
              " ((900101, 900142, 100700841), 10),\n",
              " ((900155, 900212, 900244), 15),\n",
              " ((631357, 900236, 100700841), 20),\n",
              " ((900155, 900222, 100700868), 24),\n",
              " ((900212, 900244, 100700853), 41),\n",
              " ((900155, 100700866, 100700868), 14),\n",
              " ((900212, 900236, 900244), 16),\n",
              " ((900222, 100700866, 100700868), 21),\n",
              " ((900222, 900244, 100700866), 10),\n",
              " ((900212, 900244, 100700824), 10),\n",
              " ((631357, 900212, 900244), 12),\n",
              " ((900212, 900225, 900244), 14),\n",
              " ((900212, 900244, 100700868), 12),\n",
              " ((900101, 900244, 100700841), 11)]"
            ]
          },
          "metadata": {},
          "execution_count": 12
        }
      ]
    },
    {
      "cell_type": "markdown",
      "metadata": {
        "id": "plwQpnAi7vPL"
      },
      "source": [
        "### **8.2 SON**"
      ]
    },
    {
      "cell_type": "code",
      "metadata": {
        "colab": {
          "base_uri": "https://localhost:8080/"
        },
        "id": "yQtT9ahYhIi4",
        "outputId": "1ce8ad92-3ac1-46b3-b174-7558b9ba067b"
      },
      "source": [
        "# divide data into 3 part\n",
        "\n",
        "rddall = df.rdd.map(lambda x: ((x['ORIGINE_CAR_KEY'], x['PASS_DAY_TIME'].date()), x['DEVICE_CODE']))\n",
        "rdd1 = rddall.sample(False, 0.3)\n",
        "rddall = rddall.subtract(rdd1)\n",
        "rdd2 = rddall.sample(False, 0.5)\n",
        "rdd3 = rddall.subtract(rdd2)\n",
        "\n",
        "rdd1 = rdd1.map(lambda x: (x[0],[x[1]])).reduceByKey(lambda a,b: a+b)\n",
        "rdd2 = rdd2.map(lambda x: (x[0],[x[1]])).reduceByKey(lambda a,b: a+b)\n",
        "rdd3 = rdd3.map(lambda x: (x[0],[x[1]])).reduceByKey(lambda a,b: a+b)\n",
        "\n",
        "suprdd1 = rdd1.flatMap(lambda X: X[1]).map(lambda item: (item , 1)).reduceByKey(lambda a,b: a+b).filter(lambda item: item[1] >= 50)\n",
        "suprdd2 = rdd2.flatMap(lambda X: X[1]).map(lambda item: (item , 1)).reduceByKey(lambda a,b: a+b).filter(lambda item: item[1] >= 50)\n",
        "suprdd3 = rdd3.flatMap(lambda X: X[1]).map(lambda item: (item , 1)).reduceByKey(lambda a,b: a+b).filter(lambda item: item[1] >= 50)\n",
        "\n",
        "uniqueItems1 = suprdd1.map(lambda item: item[0]) \n",
        "uniqueItems2 = suprdd2.map(lambda item: item[0]) \n",
        "uniqueItems3 = suprdd3.map(lambda item: item[0]) \n",
        "\n",
        "allRdd1 = suprdd1.map(lambda item: ([item[0]] , item[1])) \n",
        "allRdd2 = suprdd2.map(lambda item: ([item[0]] , item[1])) \n",
        "allRdd3 = suprdd3.map(lambda item: ([item[0]] , item[1])) \n",
        "\n",
        "listitems1 = rdd1.map(lambda item: item[1])\n",
        "listitems2 = rdd2.map(lambda item: item[1])\n",
        "listitems3 = rdd3.map(lambda item: item[1])\n",
        "\n",
        "suprdd1_2 = suprdd1.map(lambda item: item[0]) \n",
        "suprdd2_2 = suprdd2.map(lambda item: item[0]) \n",
        "suprdd3_2 = suprdd3.map(lambda item: item[0]) \n",
        "\n",
        "print(suprdd1_2.take(3))\n",
        "print(suprdd2_2.take(3))\n",
        "print(suprdd3_2.take(3))"
      ],
      "execution_count": null,
      "outputs": [
        {
          "output_type": "stream",
          "name": "stdout",
          "text": [
            "[900222, 100700820, 22010061]\n",
            "[22010118, 100700868, 900222]\n",
            "[100700820, 22010088, 100700868]\n"
          ]
        }
      ]
    },
    {
      "cell_type": "code",
      "metadata": {
        "id": "l9oYGpt_3Z5X"
      },
      "source": [
        "#implement Apriori to find frequent itemset in each part\n",
        "\n",
        "def apriori(supportRDD2, unique, resultRdd, listall):\n",
        "  count = 2\n",
        "  while(supportRDD2.isEmpty() == False):\n",
        "    tmp = supportRDD2.cartesian(unique)\n",
        "    tmp = tmp.map(lambda item: remove(item))\n",
        "    tmp = tmp.filter(lambda item: len(item) == count)\n",
        "    tmp = tmp.distinct()\n",
        "    print(tmp.take(4))\n",
        "\n",
        "    tmp_2 = tmp.cartesian(listall)\n",
        "    tmp_2 = tmp_2.filter(lambda item: all(x in item[1] for x in item[0]))\n",
        "    print(tmp_2.take(4))\n",
        "\n",
        "    tmp_2 = tmp_2.map(lambda item: (item[0], 1)).reduceByKey(lambda a,b: a+b)\n",
        "    print(tmp_2.take(4))\n",
        "\n",
        "    tmp_2 = tmp_2.filter(lambda item: item[1] >= 1)\n",
        "    print(tmp_2.take(4))\n",
        "    resultRdd = resultRdd.union(tmp_2)\n",
        "    print(resultRdd.collect())\n",
        "    tmp_2 = tmp_2.map(lambda item: item[0])\n",
        "    supportRDD2 = tmp_2\n",
        "    count = count+1 \n",
        "    print('finish ' + str(count))\n",
        "    if(count == 3):\n",
        "      break\n",
        "\n",
        "  return resultRdd"
      ],
      "execution_count": null,
      "outputs": []
    },
    {
      "cell_type": "code",
      "metadata": {
        "colab": {
          "base_uri": "https://localhost:8080/"
        },
        "id": "jfw4fk0f71Qz",
        "outputId": "a35e702a-3e40-48cd-bc9c-3137c23a8b71"
      },
      "source": [
        "# find frequent items in each chunk\n",
        "\n",
        "candidate_1 = apriori(suprdd1_2, uniqueItems1, allRdd1, listitems1)\n",
        "candidate_2 = apriori(suprdd2_2, uniqueItems2, allRdd2, listitems2)\n",
        "candidate_3 = apriori(suprdd3_2, uniqueItems3, allRdd3, listitems3)"
      ],
      "execution_count": null,
      "outputs": [
        {
          "output_type": "stream",
          "name": "stdout",
          "text": [
            "[(900222, 22010061), (900222, 900234), (900234, 100700841), (900207, 100700862)]\n",
            "[((900207, 900244), [900207, 900244]), ((900225, 100700853), [900225, 100700853]), ((22010047, 22010061), [22010047, 22010060, 22010043, 22010047, 22010061, 22010039, 22010057, 22010061, 22010061, 22010061]), ((900225, 900268), [900268, 900225])]\n",
            "[((900225, 100700853), 1), ((900234, 900265), 1), ((900207, 900244), 1), ((22010047, 22010061), 1)]\n",
            "[((900225, 100700853), 1), ((900234, 900265), 1), ((900207, 900244), 1), ((22010047, 22010061), 1)]\n",
            "[([900222], 79), ([100700820], 51), ([22010061], 52), ([900225], 67), ([900246], 75), ([100700841], 108), ([100700853], 94), ([100700868], 58), ([900234], 62), ([100700862], 59), ([900207], 62), ([631357], 63), ([900142], 74), ([900265], 55), ([22010047], 53), ([22010119], 53), ([100700845], 60), ([900202], 84), ([100700824], 78), ([900268], 81), ([100700866], 54), ([900244], 100), ([900139], 59), ([22010083], 99), ([22010048], 50), ([900269], 67), ([900107], 62), ([900212], 132), ([900191], 58), ([100700804], 58), ([900164], 64), ([100700864], 55), ([900155], 79), ([900236], 51), ([900101], 87), ((900225, 100700853), 1), ((900234, 900265), 1), ((900207, 900244), 1), ((22010047, 22010061), 1), ((900225, 900268), 1)]\n",
            "finish 3\n",
            "[(900164, 900222), (900234, 900236), (900244, 22010118), (631357, 100700841)]\n",
            "[((631357, 900217), [631357, 900217]), ((900236, 100700845), [100700881, 100700845, 900236])]\n",
            "[((900236, 100700845), 1), ((631357, 900217), 1)]\n",
            "[((900236, 100700845), 1), ((631357, 900217), 1)]\n",
            "[([22010118], 50), ([100700868], 88), ([900222], 106), ([900246], 101), ([900234], 66), ([631357], 66), ([900139], 79), ([100700845], 91), ([900265], 67), ([22010119], 72), ([900217], 53), ([22010083], 97), ([22010047], 65), ([22010060], 54), ([22010048], 55), ([900212], 143), ([900164], 64), ([900236], 76), ([100700864], 63), ([100700804], 61), ([100700853], 103), ([900225], 89), ([100700841], 139), ([900207], 64), ([900273], 63), ([900249], 61), ([22010061], 84), ([900268], 96), ([900142], 88), ([900202], 73), ([900244], 114), ([100700866], 78), ([100700824], 62), ([22010039], 59), ([900107], 67), ([900155], 100), ([900269], 64), ([900101], 98), ([900191], 64), ([900233], 62), ((900236, 100700845), 1), ((631357, 900217), 1)]\n",
            "finish 3\n",
            "[(631357, 900233), (631357, 100700841), (900101, 900273), (900233, 100700853)]\n",
            "[((900273, 22010118), [900273, 22010118]), ((900225, 22010119), [22010119, 900225]), ((900202, 900207), [900202, 900207]), ((900212, 100700841), [900212, 100700841])]\n",
            "[((900207, 100700853), 1), ((900225, 900226), 1), ((631795, 900236), 1), ((900212, 100700841), 1)]\n",
            "[((900207, 100700853), 1), ((900225, 900226), 1), ((631795, 900236), 1), ((900212, 100700841), 1)]\n",
            "[([100700820], 53), ([22010088], 53), ([100700868], 68), ([100700845], 54), ([631357], 65), ([900207], 67), ([900268], 97), ([900244], 115), ([100700824], 69), ([900269], 52), ([900101], 99), ([900233], 59), ([100700862], 56), ([114], 52), ([900222], 112), ([900234], 76), ([22010118], 53), ([900246], 105), ([900102], 60), ([22010047], 50), ([22010119], 58), ([900139], 70), ([100700839], 64), ([631795], 62), ([22010083], 90), ([900236], 72), ([22010048], 59), ([900212], 159), ([900164], 73), ([100700864], 55), ([100700804], 71), ([22010060], 50), ([900273], 63), ([100700841], 131), ([22010061], 79), ([900249], 60), ([900225], 80), ([100700853], 96), ([22009977], 60), ([900226], 52), ([100700866], 58), ([900142], 95), ([900202], 57), ([22010087], 51), ([900155], 89), ([900191], 77), ([900107], 76), ([631763], 51), ((900207, 100700853), 1), ((900225, 900226), 1), ((631795, 900236), 1), ((900212, 100700841), 1), ((900225, 22010119), 1), ((900202, 900207), 1), ((900273, 22010118), 1)]\n",
            "finish 3\n"
          ]
        }
      ]
    },
    {
      "cell_type": "code",
      "metadata": {
        "id": "5JKdtuckBiCB"
      },
      "source": [
        "# combine the results of chunks and check the frequency of candidate items in all of dataset\n",
        "\n",
        "def remove2(record):\n",
        "\n",
        "    if(len(record[0]) == 1):\n",
        "        return (record[0][0], 1)\n",
        "    else:\n",
        "        return (record[0], 1)\n",
        "  \n",
        "def reverseremove(record):\n",
        "\n",
        "    if(isinstance(record[0], tuple)):\n",
        "        return record[0]\n",
        "    else:\n",
        "        return [record[0]]\n",
        "\n",
        "\n",
        "candidate = candidate_1.union(candidate_2)\n",
        "candidate = candidate.union(candidate_3)\n",
        "candidate = candidate.map(remove2).reduceByKey(lambda a,b: a+b).map(lambda x:x[0])\n",
        "candidate = candidate.map(reverseremove)\n",
        "listall = listitems1.union(listitems2)\n",
        "listall = listall.union(listitems3)\n",
        "tmp_2 = candidate.cartesian(listall)\n",
        "tmp_2 = tmp_2.filter(lambda item: all(x in item[1] for x in item[0]))\n",
        "tmp_2 = tmp_2.map(lambda x: (str(x[0]), 1)).reduceByKey(lambda a,b: a+b)\n",
        "son_results = tmp_2.filter(lambda item: item[1] >= 2)\n"
      ],
      "execution_count": null,
      "outputs": []
    },
    {
      "cell_type": "code",
      "source": [
        "# final frequent road with SON\n",
        "\n",
        "son_results.collect()"
      ],
      "metadata": {
        "id": "FryRVR1fSQod"
      },
      "execution_count": null,
      "outputs": []
    }
  ]
}